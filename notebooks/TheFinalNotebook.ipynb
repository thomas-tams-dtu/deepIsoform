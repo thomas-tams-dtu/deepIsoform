{
 "cells": [
  {
   "cell_type": "code",
   "execution_count": 32,
   "metadata": {},
   "outputs": [],
   "source": [
    "import pickle\n",
    "import torch\n",
    "from torch.utils.data import DataLoader\n",
    "import IsoDatasets\n",
    "from tqdm import tqdm\n",
    "import pandas as pd\n",
    "import sklearn\n",
    "criterion = torch.nn.MSELoss()\n"
   ]
  },
  {
   "cell_type": "markdown",
   "metadata": {},
   "source": [
    "<h1>Here we load in an example of one of our PCA-DNN models and afterwards evaluate it on the test set</h1>"
   ]
  },
  {
   "cell_type": "code",
   "execution_count": 35,
   "metadata": {},
   "outputs": [
    {
     "name": "stderr",
     "output_type": "stream",
     "text": [
      "/zhome/b6/d/154958/.local/lib/python3.11/site-packages/sklearn/base.py:348: InconsistentVersionWarning: Trying to unpickle estimator IncrementalPCA from version 1.3.0 when using version 1.3.2. This might lead to breaking code or invalid results. Use at your own risk. For more info please refer to:\n",
      "https://scikit-learn.org/stable/model_persistence.html#security-maintainability-limitations\n",
      "  warnings.warn(\n"
     ]
    },
    {
     "ename": "FileNotFoundError",
     "evalue": "[Errno 2] No such file or directory: 'PATH/TO/DNN/MODEL'",
     "output_type": "error",
     "traceback": [
      "\u001b[0;31m---------------------------------------------------------------------------\u001b[0m",
      "\u001b[0;31mFileNotFoundError\u001b[0m                         Traceback (most recent call last)",
      "Cell \u001b[0;32mIn[35], line 11\u001b[0m\n\u001b[1;32m      8\u001b[0m model\u001b[38;5;241m.\u001b[39mclose()\n\u001b[1;32m     10\u001b[0m \u001b[38;5;66;03m# Loading the DNN\u001b[39;00m\n\u001b[0;32m---> 11\u001b[0m Model \u001b[38;5;241m=\u001b[39m \u001b[38;5;28;43mopen\u001b[39;49m\u001b[43m(\u001b[49m\u001b[38;5;124;43m\"\u001b[39;49m\u001b[38;5;124;43mPATH/TO/DNN/MODEL\u001b[39;49m\u001b[38;5;124;43m\"\u001b[39;49m\u001b[43m,\u001b[49m\u001b[43m \u001b[49m\u001b[38;5;124;43m\"\u001b[39;49m\u001b[38;5;124;43mrb\u001b[39;49m\u001b[38;5;124;43m\"\u001b[39;49m\u001b[43m)\u001b[49m\n\u001b[1;32m     12\u001b[0m DNN_model \u001b[38;5;241m=\u001b[39m pickle\u001b[38;5;241m.\u001b[39mload(Model)\n\u001b[1;32m     13\u001b[0m Model\u001b[38;5;241m.\u001b[39mclose()\n",
      "File \u001b[0;32m~/.local/lib/python3.11/site-packages/IPython/core/interactiveshell.py:310\u001b[0m, in \u001b[0;36m_modified_open\u001b[0;34m(file, *args, **kwargs)\u001b[0m\n\u001b[1;32m    303\u001b[0m \u001b[38;5;28;01mif\u001b[39;00m file \u001b[38;5;129;01min\u001b[39;00m {\u001b[38;5;241m0\u001b[39m, \u001b[38;5;241m1\u001b[39m, \u001b[38;5;241m2\u001b[39m}:\n\u001b[1;32m    304\u001b[0m     \u001b[38;5;28;01mraise\u001b[39;00m \u001b[38;5;167;01mValueError\u001b[39;00m(\n\u001b[1;32m    305\u001b[0m         \u001b[38;5;124mf\u001b[39m\u001b[38;5;124m\"\u001b[39m\u001b[38;5;124mIPython won\u001b[39m\u001b[38;5;124m'\u001b[39m\u001b[38;5;124mt let you open fd=\u001b[39m\u001b[38;5;132;01m{\u001b[39;00mfile\u001b[38;5;132;01m}\u001b[39;00m\u001b[38;5;124m by default \u001b[39m\u001b[38;5;124m\"\u001b[39m\n\u001b[1;32m    306\u001b[0m         \u001b[38;5;124m\"\u001b[39m\u001b[38;5;124mas it is likely to crash IPython. If you know what you are doing, \u001b[39m\u001b[38;5;124m\"\u001b[39m\n\u001b[1;32m    307\u001b[0m         \u001b[38;5;124m\"\u001b[39m\u001b[38;5;124myou can use builtins\u001b[39m\u001b[38;5;124m'\u001b[39m\u001b[38;5;124m open.\u001b[39m\u001b[38;5;124m\"\u001b[39m\n\u001b[1;32m    308\u001b[0m     )\n\u001b[0;32m--> 310\u001b[0m \u001b[38;5;28;01mreturn\u001b[39;00m \u001b[43mio_open\u001b[49m\u001b[43m(\u001b[49m\u001b[43mfile\u001b[49m\u001b[43m,\u001b[49m\u001b[43m \u001b[49m\u001b[38;5;241;43m*\u001b[39;49m\u001b[43margs\u001b[49m\u001b[43m,\u001b[49m\u001b[43m \u001b[49m\u001b[38;5;241;43m*\u001b[39;49m\u001b[38;5;241;43m*\u001b[39;49m\u001b[43mkwargs\u001b[49m\u001b[43m)\u001b[49m\n",
      "\u001b[0;31mFileNotFoundError\u001b[0m: [Errno 2] No such file or directory: 'PATH/TO/DNN/MODEL'"
     ]
    }
   ],
   "source": [
    "# Loading the Isoform test data  \n",
    "gtex_test = IsoDatasets.GtexDataset(\"/dtu-compute/datasets/iso_02456/hdf5/\", include='artery')\n",
    "gtx_test_dataloader = DataLoader(gtex_test, batch_size=5000, shuffle=True)\n",
    "\n",
    "# Loading the PCA\n",
    "model = open(\"Thomas/deepIsoform/models/ipca_model_n16.pkl\",\"rb\")\n",
    "IPCA = pickle.load(model)\n",
    "model.close()\n",
    "\n",
    "# Loading the DNN\n",
    "Model = open(\"PATH/TO/DNN/MODEL\", \"rb\")\n",
    "DNN_model = pickle.load(Model)\n",
    "Model.close()"
   ]
  },
  {
   "cell_type": "code",
   "execution_count": 34,
   "metadata": {},
   "outputs": [
    {
     "name": "stderr",
     "output_type": "stream",
     "text": [
      "  0%|                                                                                                                                                   | 0/1 [00:15<?, ?it/s]\n"
     ]
    },
    {
     "ename": "NameError",
     "evalue": "name 'DNN_model' is not defined",
     "output_type": "error",
     "traceback": [
      "\u001b[0;31m---------------------------------------------------------------------------\u001b[0m",
      "\u001b[0;31mNameError\u001b[0m                                 Traceback (most recent call last)",
      "Cell \u001b[0;32mIn[34], line 4\u001b[0m\n\u001b[1;32m      1\u001b[0m \u001b[38;5;28;01mfor\u001b[39;00m X,y \u001b[38;5;129;01min\u001b[39;00m tqdm(gtx_test_dataloader):\n\u001b[1;32m      2\u001b[0m     encodedData \u001b[38;5;241m=\u001b[39m IPCA\u001b[38;5;241m.\u001b[39mtransform(X)\n\u001b[0;32m----> 4\u001b[0m     predictions \u001b[38;5;241m=\u001b[39m \u001b[43mDNN_model\u001b[49m\u001b[38;5;241m.\u001b[39mpredict(encodedData)\n\u001b[1;32m      6\u001b[0m     squared_errors \u001b[38;5;241m=\u001b[39m(predictions \u001b[38;5;241m-\u001b[39m y)\u001b[38;5;241m*\u001b[39m\u001b[38;5;241m*\u001b[39m\u001b[38;5;241m2\u001b[39m\n\u001b[1;32m      8\u001b[0m     sum_squared_error \u001b[38;5;241m+\u001b[39m\u001b[38;5;241m=\u001b[39m squared_errors\u001b[38;5;241m.\u001b[39msum()\n",
      "\u001b[0;31mNameError\u001b[0m: name 'DNN_model' is not defined"
     ]
    }
   ],
   "source": [
    "for X,y in tqdm(gtx_test_dataloader):\n",
    "    encodedData = IPCA.transform(X)\n",
    "    \n",
    "    predictions = DNN_model.predict(encodedData)\n",
    "    \n",
    "    squared_errors =(predictions - y)**2\n",
    "    \n",
    "    sum_squared_error += squared_errors.sum()\n",
    "    \n",
    "\n",
    "mse_loss = sum_squared_error / (len(gtex_test) * 156958)"
   ]
  },
  {
   "cell_type": "markdown",
   "metadata": {},
   "source": [
    "<h1>Here we evaluate just the DNN alone</h1>"
   ]
  },
  {
   "cell_type": "code",
   "execution_count": null,
   "metadata": {},
   "outputs": [
    {
     "ename": "FileNotFoundError",
     "evalue": "[Errno 2] No such file or directory: 'PATH/TO/DNN/MODEL'",
     "output_type": "error",
     "traceback": [
      "\u001b[0;31m---------------------------------------------------------------------------\u001b[0m",
      "\u001b[0;31mFileNotFoundError\u001b[0m                         Traceback (most recent call last)",
      "Cell \u001b[0;32mIn[31], line 4\u001b[0m\n\u001b[1;32m      1\u001b[0m gtx_test_dataloader \u001b[38;5;241m=\u001b[39m DataLoader(gtex_test, batch_size\u001b[38;5;241m=\u001b[39m\u001b[38;5;241m5000\u001b[39m, shuffle\u001b[38;5;241m=\u001b[39m\u001b[38;5;28;01mTrue\u001b[39;00m)\n\u001b[1;32m      3\u001b[0m \u001b[38;5;66;03m# Loading the DNN\u001b[39;00m\n\u001b[0;32m----> 4\u001b[0m Model \u001b[38;5;241m=\u001b[39m \u001b[38;5;28;43mopen\u001b[39;49m\u001b[43m(\u001b[49m\u001b[38;5;124;43m\"\u001b[39;49m\u001b[38;5;124;43mPATH/TO/DNN/MODEL\u001b[39;49m\u001b[38;5;124;43m\"\u001b[39;49m\u001b[43m,\u001b[49m\u001b[43m \u001b[49m\u001b[38;5;124;43m\"\u001b[39;49m\u001b[38;5;124;43mrb\u001b[39;49m\u001b[38;5;124;43m\"\u001b[39;49m\u001b[43m)\u001b[49m\n\u001b[1;32m      5\u001b[0m DNN_model \u001b[38;5;241m=\u001b[39m pickle\u001b[38;5;241m.\u001b[39mload(Model)\n\u001b[1;32m      6\u001b[0m Model\u001b[38;5;241m.\u001b[39mclose()\n",
      "File \u001b[0;32m~/.local/lib/python3.11/site-packages/IPython/core/interactiveshell.py:310\u001b[0m, in \u001b[0;36m_modified_open\u001b[0;34m(file, *args, **kwargs)\u001b[0m\n\u001b[1;32m    303\u001b[0m \u001b[38;5;28;01mif\u001b[39;00m file \u001b[38;5;129;01min\u001b[39;00m {\u001b[38;5;241m0\u001b[39m, \u001b[38;5;241m1\u001b[39m, \u001b[38;5;241m2\u001b[39m}:\n\u001b[1;32m    304\u001b[0m     \u001b[38;5;28;01mraise\u001b[39;00m \u001b[38;5;167;01mValueError\u001b[39;00m(\n\u001b[1;32m    305\u001b[0m         \u001b[38;5;124mf\u001b[39m\u001b[38;5;124m\"\u001b[39m\u001b[38;5;124mIPython won\u001b[39m\u001b[38;5;124m'\u001b[39m\u001b[38;5;124mt let you open fd=\u001b[39m\u001b[38;5;132;01m{\u001b[39;00mfile\u001b[38;5;132;01m}\u001b[39;00m\u001b[38;5;124m by default \u001b[39m\u001b[38;5;124m\"\u001b[39m\n\u001b[1;32m    306\u001b[0m         \u001b[38;5;124m\"\u001b[39m\u001b[38;5;124mas it is likely to crash IPython. If you know what you are doing, \u001b[39m\u001b[38;5;124m\"\u001b[39m\n\u001b[1;32m    307\u001b[0m         \u001b[38;5;124m\"\u001b[39m\u001b[38;5;124myou can use builtins\u001b[39m\u001b[38;5;124m'\u001b[39m\u001b[38;5;124m open.\u001b[39m\u001b[38;5;124m\"\u001b[39m\n\u001b[1;32m    308\u001b[0m     )\n\u001b[0;32m--> 310\u001b[0m \u001b[38;5;28;01mreturn\u001b[39;00m \u001b[43mio_open\u001b[49m\u001b[43m(\u001b[49m\u001b[43mfile\u001b[49m\u001b[43m,\u001b[49m\u001b[43m \u001b[49m\u001b[38;5;241;43m*\u001b[39;49m\u001b[43margs\u001b[49m\u001b[43m,\u001b[49m\u001b[43m \u001b[49m\u001b[38;5;241;43m*\u001b[39;49m\u001b[38;5;241;43m*\u001b[39;49m\u001b[43mkwargs\u001b[49m\u001b[43m)\u001b[49m\n",
      "\u001b[0;31mFileNotFoundError\u001b[0m: [Errno 2] No such file or directory: 'PATH/TO/DNN/MODEL'"
     ]
    }
   ],
   "source": [
    "gtx_test_dataloader = DataLoader(gtex_test, batch_size=5000, shuffle=True)\n",
    "\n",
    "# Loading the DNN\n",
    "Model = open(\"PATH/TO/DNN/MODEL\", \"rb\")\n",
    "DNN_model = pickle.load(Model)\n",
    "Model.close()\n",
    "\n",
    "numOfAtt = 0\n",
    "for X,y in tqdm(gtx_test_dataloader):\n",
    "    if numOfAtt == 0:\n",
    "        numOfAtt = X.shape[1]\n",
    "    \n",
    "    predictions = DNN_model.predict(x)\n",
    "    \n",
    "    squared_errors =(predictions - y)**2\n",
    "    \n",
    "    sum_squared_error += squared_errors.sum()\n",
    "    \n",
    "\n",
    "\n",
    "mse_loss = sum_squared_error / (len(gtex_test) * 156958)"
   ]
  },
  {
   "cell_type": "markdown",
   "metadata": {},
   "source": [
    "<h1>Here we test the encoding of the VAE and the DNN</h1>"
   ]
  },
  {
   "cell_type": "code",
   "execution_count": null,
   "metadata": {},
   "outputs": [],
   "source": [
    "gtx_test_dataloader = DataLoader(gtex_test, batch_size=5000, shuffle=True)\n",
    "\n",
    "# Loading the DNN\n",
    "Model = open(\"PATH/TO/DNN/MODEL\", \"rb\")\n",
    "DNN_model = pickle.load(Model)\n",
    "Model.close()\n",
    "\n",
    "# Loading the VAE\n",
    "encoder_model = VAE_lf(input_shape=gene_expr[0].size(),\n",
    "                       hidden_features=0,\n",
    "                       latent_features=LATENT_FEATURES)\n",
    "checkpoint = torch.load(ENCODER_PATH)\n",
    "\n",
    "numOfAtt = 0\n",
    "for X,y in tqdm(gtx_test_dataloader):\n",
    "    if numOfAtt == 0:\n",
    "        numOfAtt = X.shape[1]\n",
    "    encodedData = VAE_model.transform(X)\n",
    "    \n",
    "    \n",
    "    x = DNN_model.forward(x)\n",
    "    \n",
    "    loss = criterion(x, y).double()\n",
    "\n",
    "    \n",
    "    squared_errors =(predictions - y)**2\n",
    "    \n",
    "    sum_squared_error += squared_errors.sum() \n",
    "\n",
    "\n",
    "    test_loss.append(loss.item())\n",
    "    \n",
    "\n",
    "mse_loss = sum_squared_error / (len(gtex_test) * numOfAtt)"
   ]
  }
 ],
 "metadata": {
  "kernelspec": {
   "display_name": "Python 3 (ipykernel)",
   "language": "python",
   "name": "python3"
  },
  "language_info": {
   "codemirror_mode": {
    "name": "ipython",
    "version": 3
   },
   "file_extension": ".py",
   "mimetype": "text/x-python",
   "name": "python",
   "nbconvert_exporter": "python",
   "pygments_lexer": "ipython3",
   "version": "3.11.4"
  }
 },
 "nbformat": 4,
 "nbformat_minor": 2
}
