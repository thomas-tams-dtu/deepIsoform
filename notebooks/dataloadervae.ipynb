{
 "cells": [
  {
   "cell_type": "code",
   "execution_count": 2,
   "id": "23438c5a-a961-4b66-9176-47d44e690450",
   "metadata": {},
   "outputs": [],
   "source": [
    "import pandas as pd\n",
    "from torch.utils.data import Dataset\n",
    "\n",
    "class VaeDataset(Dataset):\n",
    "    def __init__(self, path):\n",
    "        # Read in the data\n",
    "        self.df = pd.read_csv(path, sep=\"\\t\")\n",
    "        # Extract the sample names\n",
    "        self.sampleid = self.df[\"sample_id\"].values\n",
    "        # Extrac the values\n",
    "        self.data = self.df.iloc[:,1:].values\n",
    "    def __getitem__(self, idx):\n",
    "        output = {}\n",
    "        # Get the correct indices of data\n",
    "        output[\"sample_id\"] = self.sampleid[idx]\n",
    "        output[\"data\"] = self.data[idx]\n",
    "        return output\n",
    "        \n",
    "    def __len__(self):\n",
    "        # return the length of the data\n",
    "        return len(self.data)"
   ]
  },
  {
   "cell_type": "code",
   "execution_count": 4,
   "id": "2193721a-aa0c-4eb1-bd09-ebe0b07eb810",
   "metadata": {},
   "outputs": [],
   "source": [
    "path = \"../data/head_archs4_gene_expression_norm_transposed.tsv\"\n",
    "dataset = VaeDataset(path)"
   ]
  },
  {
   "cell_type": "code",
   "execution_count": 55,
   "id": "fad87642-b2ed-4c04-907f-eaf630bfdfc1",
   "metadata": {},
   "outputs": [],
   "source": [
    "dataloader = DataLoader(\n",
    "    dataset,\n",
    "    batch_size=2,\n",
    "    shuffle=True\n",
    ")"
   ]
  },
  {
   "cell_type": "code",
   "execution_count": 57,
   "id": "2eee363d-d50c-4d92-af09-a219bc699407",
   "metadata": {},
   "outputs": [
    {
     "name": "stdout",
     "output_type": "stream",
     "text": [
      "['GTEX-1117F-2526-SM-5GZY6', 'GTEX-1117F-0426-SM-5EGHI'] tensor([[2.0566, 4.3096, 0.1110,  ..., 0.1243, 0.2750, 0.0000],\n",
      "        [4.2957, 4.2063, 0.0000,  ..., 0.1375, 0.9336, 0.0000]],\n",
      "       dtype=torch.float64)\n",
      "['GTEX-1117F-0526-SM-5EGHJ', 'GTEX-1117F-1326-SM-5EGHH'] tensor([[3.8610, 2.3505, 0.1890,  ..., 0.0566, 2.0496, 0.0000],\n",
      "        [2.5084, 2.7782, 0.4542,  ..., 0.0976, 0.4005, 0.0000]],\n",
      "       dtype=torch.float64)\n",
      "['GTEX-1117F-2826-SM-5GZXL', 'GTEX-1117F-0726-SM-5GIEN'] tensor([[2.5410, 1.2203, 0.0841,  ..., 0.2510, 0.4751, 0.0000],\n",
      "        [2.5558, 0.5059, 0.0566,  ..., 0.0000, 0.3219, 0.0000]],\n",
      "       dtype=torch.float64)\n",
      "['GTEX-1117F-0226-SM-5GZZ7', 'GTEX-1117F-2426-SM-5EGGH'] tensor([[3.3277, 2.3391, 0.0841,  ..., 0.2141, 2.1309, 0.0000],\n",
      "        [2.9203, 5.9378, 0.0000,  ..., 0.1763, 1.0841, 0.0000]],\n",
      "       dtype=torch.float64)\n",
      "['GTEX-1117F-0626-SM-5N9CS'] tensor([[2.9579, 2.9355, 0.0000,  ..., 0.0976, 1.0356, 0.0000]],\n",
      "       dtype=torch.float64)\n"
     ]
    }
   ],
   "source": [
    "for batch in dataloader:\n",
    "    data = batch[\"data\"]\n",
    "    sampleid = batch[\"sample_id\"]\n",
    "    print(sampleid,data)"
   ]
  },
  {
   "cell_type": "code",
   "execution_count": 2,
   "id": "3fc320c1",
   "metadata": {},
   "outputs": [
    {
     "name": "stdout",
     "output_type": "stream",
     "text": [
      "test\n"
     ]
    }
   ],
   "source": [
    "print('test')"
   ]
  }
 ],
 "metadata": {
  "kernelspec": {
   "display_name": "Python 3 (ipykernel)",
   "language": "python",
   "name": "python3"
  },
  "language_info": {
   "codemirror_mode": {
    "name": "ipython",
    "version": 3
   },
   "file_extension": ".py",
   "mimetype": "text/x-python",
   "name": "python",
   "nbconvert_exporter": "python",
   "pygments_lexer": "ipython3",
   "version": "3.10.9"
  }
 },
 "nbformat": 4,
 "nbformat_minor": 5
}
