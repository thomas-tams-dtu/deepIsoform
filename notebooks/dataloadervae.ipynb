{
 "cells": [
  {
   "cell_type": "code",
   "execution_count": 7,
   "id": "23438c5a-a961-4b66-9176-47d44e690450",
   "metadata": {},
   "outputs": [
    {
     "ename": "NameError",
     "evalue": "name '_C' is not defined",
     "output_type": "error",
     "traceback": [
      "\u001b[0;31m---------------------------------------------------------------------------\u001b[0m",
      "\u001b[0;31mNameError\u001b[0m                                 Traceback (most recent call last)",
      "\u001b[1;32m/zhome/99/d/155947/DeeplearningProject/deepIsoform/notebooks/dataloadervae.ipynb Cell 1\u001b[0m line \u001b[0;36m2\n\u001b[1;32m      <a href='vscode-notebook-cell://ssh-remote%2Blogin2.gbar.dtu.dk/zhome/99/d/155947/DeeplearningProject/deepIsoform/notebooks/dataloadervae.ipynb#W0sdnNjb2RlLXJlbW90ZQ%3D%3D?line=0'>1</a>\u001b[0m \u001b[39mimport\u001b[39;00m \u001b[39mpandas\u001b[39;00m \u001b[39mas\u001b[39;00m \u001b[39mpd\u001b[39;00m\n\u001b[0;32m----> <a href='vscode-notebook-cell://ssh-remote%2Blogin2.gbar.dtu.dk/zhome/99/d/155947/DeeplearningProject/deepIsoform/notebooks/dataloadervae.ipynb#W0sdnNjb2RlLXJlbW90ZQ%3D%3D?line=1'>2</a>\u001b[0m \u001b[39mimport\u001b[39;00m \u001b[39mtorch\u001b[39;00m\n\u001b[1;32m      <a href='vscode-notebook-cell://ssh-remote%2Blogin2.gbar.dtu.dk/zhome/99/d/155947/DeeplearningProject/deepIsoform/notebooks/dataloadervae.ipynb#W0sdnNjb2RlLXJlbW90ZQ%3D%3D?line=2'>3</a>\u001b[0m \u001b[39mfrom\u001b[39;00m \u001b[39mtorch\u001b[39;00m\u001b[39m.\u001b[39;00m\u001b[39mutils\u001b[39;00m\u001b[39m.\u001b[39;00m\u001b[39mdata\u001b[39;00m \u001b[39mimport\u001b[39;00m Dataset\n\u001b[1;32m      <a href='vscode-notebook-cell://ssh-remote%2Blogin2.gbar.dtu.dk/zhome/99/d/155947/DeeplearningProject/deepIsoform/notebooks/dataloadervae.ipynb#W0sdnNjb2RlLXJlbW90ZQ%3D%3D?line=4'>5</a>\u001b[0m \u001b[39mclass\u001b[39;00m \u001b[39mVaeDataset\u001b[39;00m(Dataset):\n",
      "File \u001b[0;32m~/miniconda3/envs/inverse/lib/python3.9/site-packages/torch/__init__.py:231\u001b[0m\n\u001b[1;32m    216\u001b[0m         \u001b[39mraise\u001b[39;00m \u001b[39mImportError\u001b[39;00m(textwrap\u001b[39m.\u001b[39mdedent(\u001b[39m'''\u001b[39m\n\u001b[1;32m    217\u001b[0m \u001b[39m            Failed to load PyTorch C extensions:\u001b[39m\n\u001b[1;32m    218\u001b[0m \u001b[39m                It appears that PyTorch has loaded the `torch/_C` folder\u001b[39m\n\u001b[0;32m   (...)\u001b[0m\n\u001b[1;32m    226\u001b[0m \u001b[39m                or by running Python from a different directory.\u001b[39m\n\u001b[1;32m    227\u001b[0m \u001b[39m            \u001b[39m\u001b[39m'''\u001b[39m)\u001b[39m.\u001b[39mstrip()) \u001b[39mfrom\u001b[39;00m \u001b[39mNone\u001b[39;00m\n\u001b[1;32m    228\u001b[0m     \u001b[39mraise\u001b[39;00m  \u001b[39m# If __file__ is not None the cause is unknown, so just re-raise.\u001b[39;00m\n\u001b[0;32m--> 231\u001b[0m __all__ \u001b[39m+\u001b[39m\u001b[39m=\u001b[39m [name \u001b[39mfor\u001b[39;00m name \u001b[39min\u001b[39;00m \u001b[39mdir\u001b[39m(_C)\n\u001b[1;32m    232\u001b[0m             \u001b[39mif\u001b[39;00m name[\u001b[39m0\u001b[39m] \u001b[39m!=\u001b[39m \u001b[39m'\u001b[39m\u001b[39m_\u001b[39m\u001b[39m'\u001b[39m \u001b[39mand\u001b[39;00m\n\u001b[1;32m    233\u001b[0m             \u001b[39mnot\u001b[39;00m name\u001b[39m.\u001b[39mendswith(\u001b[39m'\u001b[39m\u001b[39mBase\u001b[39m\u001b[39m'\u001b[39m)]\n\u001b[1;32m    235\u001b[0m \u001b[39mif\u001b[39;00m \u001b[39mnot\u001b[39;00m TYPE_CHECKING:\n\u001b[1;32m    236\u001b[0m     \u001b[39m# issue 38137 and python issue 43367. Submodules of a C extension are\u001b[39;00m\n\u001b[1;32m    237\u001b[0m     \u001b[39m# non-standard, and attributes of those submodules cannot be pickled since\u001b[39;00m\n\u001b[1;32m    238\u001b[0m     \u001b[39m# pickle expect to be able to import them as \"from _C.sub import attr\"\u001b[39;00m\n\u001b[1;32m    239\u001b[0m     \u001b[39m# which fails with \"_C is not a package\u001b[39;00m\n\u001b[1;32m    240\u001b[0m     \u001b[39mfor\u001b[39;00m attr \u001b[39min\u001b[39;00m \u001b[39mdir\u001b[39m(_C):\n",
      "\u001b[0;31mNameError\u001b[0m: name '_C' is not defined"
     ]
    }
   ],
   "source": [
    "import pandas as pd\n",
    "from torch.utils.data import Dataset\n",
    "\n",
    "class VaeDataset(Dataset):\n",
    "    def __init__(self, csv):\n",
    "        # Read in the data\n",
    "        self.df = pd.read_csv(path, sep=\"\\t\")\n",
    "        # Extract the sample names\n",
    "        self.sampleid = self.df[\"sample_id\"].values\n",
    "        # Extrac the values\n",
    "        self.data = self.df.iloc[:,1:].values\n",
    "    def __getitem__(self, idx):\n",
    "        output = {}\n",
    "        # Get the correct indices of data\n",
    "        output[\"sample_id\"] = self.sampleid[idx]\n",
    "        output[\"data\"] = self.data[idx]\n",
    "        return output\n",
    "        \n",
    "    def __len__(self):\n",
    "        # return the length of the data\n",
    "        return len(self.data)"
   ]
  },
  {
   "cell_type": "code",
   "execution_count": 3,
   "id": "2193721a-aa0c-4eb1-bd09-ebe0b07eb810",
   "metadata": {},
   "outputs": [
    {
     "ename": "NameError",
     "evalue": "name 'VaeDataset' is not defined",
     "output_type": "error",
     "traceback": [
      "\u001b[0;31m---------------------------------------------------------------------------\u001b[0m",
      "\u001b[0;31mNameError\u001b[0m                                 Traceback (most recent call last)",
      "\u001b[1;32m/zhome/99/d/155947/DeeplearningProject/deepIsoform/notebooks/dataloadervae.ipynb Cell 2\u001b[0m line \u001b[0;36m2\n\u001b[1;32m      <a href='vscode-notebook-cell://ssh-remote%2Blogin2.gbar.dtu.dk/zhome/99/d/155947/DeeplearningProject/deepIsoform/notebooks/dataloadervae.ipynb#W1sdnNjb2RlLXJlbW90ZQ%3D%3D?line=0'>1</a>\u001b[0m path \u001b[39m=\u001b[39m \u001b[39m\"\u001b[39m\u001b[39msmalldataset.tsv\u001b[39m\u001b[39m\"\u001b[39m\n\u001b[0;32m----> <a href='vscode-notebook-cell://ssh-remote%2Blogin2.gbar.dtu.dk/zhome/99/d/155947/DeeplearningProject/deepIsoform/notebooks/dataloadervae.ipynb#W1sdnNjb2RlLXJlbW90ZQ%3D%3D?line=1'>2</a>\u001b[0m dataset \u001b[39m=\u001b[39m VaeDataset(path)\n",
      "\u001b[0;31mNameError\u001b[0m: name 'VaeDataset' is not defined"
     ]
    }
   ],
   "source": [
    "path = \"smalldataset.tsv\"\n",
    "dataset = VaeDataset(path)"
   ]
  },
  {
   "cell_type": "code",
   "execution_count": 55,
   "id": "fad87642-b2ed-4c04-907f-eaf630bfdfc1",
   "metadata": {},
   "outputs": [],
   "source": [
    "dataloader = DataLoader(\n",
    "    dataset,\n",
    "    batch_size=2,\n",
    "    shuffle=True\n",
    ")"
   ]
  },
  {
   "cell_type": "code",
   "execution_count": 57,
   "id": "2eee363d-d50c-4d92-af09-a219bc699407",
   "metadata": {},
   "outputs": [
    {
     "name": "stdout",
     "output_type": "stream",
     "text": [
      "['GTEX-1117F-2526-SM-5GZY6', 'GTEX-1117F-0426-SM-5EGHI'] tensor([[2.0566, 4.3096, 0.1110,  ..., 0.1243, 0.2750, 0.0000],\n",
      "        [4.2957, 4.2063, 0.0000,  ..., 0.1375, 0.9336, 0.0000]],\n",
      "       dtype=torch.float64)\n",
      "['GTEX-1117F-0526-SM-5EGHJ', 'GTEX-1117F-1326-SM-5EGHH'] tensor([[3.8610, 2.3505, 0.1890,  ..., 0.0566, 2.0496, 0.0000],\n",
      "        [2.5084, 2.7782, 0.4542,  ..., 0.0976, 0.4005, 0.0000]],\n",
      "       dtype=torch.float64)\n",
      "['GTEX-1117F-2826-SM-5GZXL', 'GTEX-1117F-0726-SM-5GIEN'] tensor([[2.5410, 1.2203, 0.0841,  ..., 0.2510, 0.4751, 0.0000],\n",
      "        [2.5558, 0.5059, 0.0566,  ..., 0.0000, 0.3219, 0.0000]],\n",
      "       dtype=torch.float64)\n",
      "['GTEX-1117F-0226-SM-5GZZ7', 'GTEX-1117F-2426-SM-5EGGH'] tensor([[3.3277, 2.3391, 0.0841,  ..., 0.2141, 2.1309, 0.0000],\n",
      "        [2.9203, 5.9378, 0.0000,  ..., 0.1763, 1.0841, 0.0000]],\n",
      "       dtype=torch.float64)\n",
      "['GTEX-1117F-0626-SM-5N9CS'] tensor([[2.9579, 2.9355, 0.0000,  ..., 0.0976, 1.0356, 0.0000]],\n",
      "       dtype=torch.float64)\n"
     ]
    }
   ],
   "source": [
    "for batch in dataloader:\n",
    "    data = batch[\"data\"]\n",
    "    sampleid = batch[\"sample_id\"]\n",
    "    print(sampleid,data)"
   ]
  },
  {
   "cell_type": "code",
   "execution_count": 2,
   "id": "3fc320c1",
   "metadata": {},
   "outputs": [
    {
     "name": "stdout",
     "output_type": "stream",
     "text": [
      "test\n"
     ]
    }
   ],
   "source": [
    "print('test')"
   ]
  }
 ],
 "metadata": {
  "kernelspec": {
   "display_name": "Python 3 (ipykernel)",
   "language": "python",
   "name": "python3"
  },
  "language_info": {
   "codemirror_mode": {
    "name": "ipython",
    "version": 3
   },
   "file_extension": ".py",
   "mimetype": "text/x-python",
   "name": "python",
   "nbconvert_exporter": "python",
   "pygments_lexer": "ipython3",
   "version": "3.6.8"
  }
 },
 "nbformat": 4,
 "nbformat_minor": 5
}
